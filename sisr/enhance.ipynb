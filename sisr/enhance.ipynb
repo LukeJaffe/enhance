{
 "cells": [
  {
   "cell_type": "code",
   "execution_count": 1,
   "metadata": {},
   "outputs": [
    {
     "name": "stdout",
     "output_type": "stream",
     "text": [
      "Files already downloaded and verified\n"
     ]
    }
   ],
   "source": [
    "import torchvision\n",
    "\n",
    "trainset = torchvision.datasets.CIFAR10(root='./data', train=True, download=True)\n",
    "testset = torchvision.datasets.CIFAR10(root='./data', train=False, download=False)"
   ]
  },
  {
   "cell_type": "code",
   "execution_count": 54,
   "metadata": {},
   "outputs": [],
   "source": [
    "#images = map(Image.open, ['Test1.jpg', 'Test2.jpg', 'Test3.jpg'])\n",
    "def downscale(images, s=32):\n",
    "    scaled = []\n",
    "    for image in images:\n",
    "        scaled.append(image.resize((s,s)))\n",
    "    return scaled\n",
    "\n",
    "def stitch(images):\n",
    "    widths, heights = zip(*(i.size for i in images))\n",
    "\n",
    "    total_width = sum(widths)\n",
    "    max_height = max(heights)\n",
    "\n",
    "    new_im = Image.new('RGB', (total_width, max_height))\n",
    "\n",
    "    x_offset = 0\n",
    "    for im in images:\n",
    "      new_im.paste(im, (x_offset,0))\n",
    "      x_offset += im.size[0]\n",
    "\n",
    "    return new_im"
   ]
  },
  {
   "cell_type": "code",
   "execution_count": 58,
   "metadata": {
    "scrolled": true
   },
   "outputs": [
    {
     "name": "stdout",
     "output_type": "stream",
     "text": [
      "Variable containing:\n",
      "(0 ,0 ,.,.) = \n",
      "  0.2392  0.1725  0.1882  ...   0.5373  0.5098  0.5020\n",
      "  0.0706  0.0000  0.0392  ...   0.3686  0.3529  0.3686\n",
      "  0.0902  0.0314  0.1216  ...   0.3529  0.3529  0.3137\n",
      "           ...             ⋱             ...          \n",
      "  0.6745  0.6000  0.6118  ...   0.5216  0.1373  0.1490\n",
      "  0.5725  0.5020  0.5608  ...   0.5961  0.2706  0.2314\n",
      "  0.5882  0.5333  0.5725  ...   0.7373  0.4863  0.3843\n",
      "[torch.FloatTensor of size 1x1x32x32]\n",
      "\n"
     ]
    },
    {
     "ename": "NameError",
     "evalue": "name 'asd' is not defined",
     "output_type": "error",
     "traceback": [
      "\u001b[0;31m---------------------------------------------------------------------------\u001b[0m",
      "\u001b[0;31mNameError\u001b[0m                                 Traceback (most recent call last)",
      "\u001b[0;32m<ipython-input-58-3296b8eaa0b2>\u001b[0m in \u001b[0;36m<module>\u001b[0;34m()\u001b[0m\n\u001b[1;32m     24\u001b[0m     \u001b[0minput\u001b[0m \u001b[0;34m=\u001b[0m \u001b[0mVariable\u001b[0m\u001b[0;34m(\u001b[0m\u001b[0mToTensor\u001b[0m\u001b[0;34m(\u001b[0m\u001b[0;34m)\u001b[0m\u001b[0;34m(\u001b[0m\u001b[0my\u001b[0m\u001b[0;34m)\u001b[0m\u001b[0;34m)\u001b[0m\u001b[0;34m.\u001b[0m\u001b[0mview\u001b[0m\u001b[0;34m(\u001b[0m\u001b[0;36m1\u001b[0m\u001b[0;34m,\u001b[0m \u001b[0;34m-\u001b[0m\u001b[0;36m1\u001b[0m\u001b[0;34m,\u001b[0m \u001b[0my\u001b[0m\u001b[0;34m.\u001b[0m\u001b[0msize\u001b[0m\u001b[0;34m[\u001b[0m\u001b[0;36m1\u001b[0m\u001b[0;34m]\u001b[0m\u001b[0;34m,\u001b[0m \u001b[0my\u001b[0m\u001b[0;34m.\u001b[0m\u001b[0msize\u001b[0m\u001b[0;34m[\u001b[0m\u001b[0;36m0\u001b[0m\u001b[0;34m]\u001b[0m\u001b[0;34m)\u001b[0m\u001b[0;34m\u001b[0m\u001b[0m\n\u001b[1;32m     25\u001b[0m     \u001b[0mprint\u001b[0m\u001b[0;34m(\u001b[0m\u001b[0minput\u001b[0m\u001b[0;34m)\u001b[0m\u001b[0;34m\u001b[0m\u001b[0m\n\u001b[0;32m---> 26\u001b[0;31m     \u001b[0masd\u001b[0m\u001b[0;34m\u001b[0m\u001b[0m\n\u001b[0m\u001b[1;32m     27\u001b[0m \u001b[0;34m\u001b[0m\u001b[0m\n\u001b[1;32m     28\u001b[0m     \u001b[0;32mif\u001b[0m \u001b[0mcuda\u001b[0m\u001b[0;34m:\u001b[0m\u001b[0;34m\u001b[0m\u001b[0m\n",
      "\u001b[0;31mNameError\u001b[0m: name 'asd' is not defined"
     ]
    }
   ],
   "source": [
    "import argparse\n",
    "import torch\n",
    "from torch.autograd import Variable\n",
    "from PIL import Image\n",
    "from torchvision.transforms import ToTensor\n",
    "\n",
    "import numpy as np\n",
    "\n",
    "from IPython.display import display\n",
    "\n",
    "in_images = []\n",
    "out_images = []\n",
    "for i in range(6):\n",
    "    input_image = trainset.train_data[i]\n",
    "    model = 'model_epoch_100.pth'\n",
    "    cuda = True\n",
    "\n",
    "    orig_img = Image.fromarray(input_image)\n",
    "    in_images.append(orig_img)\n",
    "    img = orig_img.convert('YCbCr')\n",
    "    y, cb, cr = img.split()\n",
    "\n",
    "    model = torch.load(model)\n",
    "    input = Variable(ToTensor()(y)).view(1, -1, y.size[1], y.size[0])\n",
    "    print(input)\n",
    "    asd\n",
    "    \n",
    "    if cuda:\n",
    "        model = model.cuda()\n",
    "        input = input.cuda()\n",
    "\n",
    "    out = model(input)\n",
    "    out = out.cpu()\n",
    "    out_img_y = out.data[0].numpy()\n",
    "    out_img_y *= 255.0\n",
    "    out_img_y = out_img_y.clip(0, 255)\n",
    "    out_img_y = Image.fromarray(np.uint8(out_img_y[0]), mode='L')\n",
    "\n",
    "    out_img_cb = cb.resize(out_img_y.size, Image.BICUBIC)\n",
    "    out_img_cr = cr.resize(out_img_y.size, Image.BICUBIC)\n",
    "    out_img = Image.merge('YCbCr', [out_img_y, out_img_cb, out_img_cr]).convert('RGB')\n",
    "    out_images.append(out_img)\n",
    "    \n",
    "display(stitch(in_images))\n",
    "scaled = downscale(out_images)\n",
    "display(stitch(scaled))\n",
    "display(stitch(out_images))"
   ]
  },
  {
   "cell_type": "code",
   "execution_count": null,
   "metadata": {
    "collapsed": true
   },
   "outputs": [],
   "source": []
  }
 ],
 "metadata": {
  "kernelspec": {
   "display_name": "Python 3",
   "language": "python",
   "name": "python3"
  },
  "language_info": {
   "codemirror_mode": {
    "name": "ipython",
    "version": 3
   },
   "file_extension": ".py",
   "mimetype": "text/x-python",
   "name": "python",
   "nbconvert_exporter": "python",
   "pygments_lexer": "ipython3",
   "version": "3.5.2"
  }
 },
 "nbformat": 4,
 "nbformat_minor": 2
}
